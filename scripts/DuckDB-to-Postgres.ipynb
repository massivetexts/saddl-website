{
    "cells": [
        {
            "cell_type": "code",
            "execution_count": 12,
            "source": [
                "!pip install -q psycopg2 # library for postrgres connector\n",
                "from sqlalchemy import create_engine\n",
                "import pandas as pd\n",
                "import duckdb\n",
                "duckcon = duckdb.connect()"
            ],
            "outputs": [],
            "metadata": {}
        },
        {
            "cell_type": "code",
            "execution_count": 13,
            "source": [
                "# connect to engine. This assumes a DB name of saddl, and root user without a pw\n",
                "engine = create_engine('postgresql://:@localhost:5432/saddl')"
            ],
            "outputs": [],
            "metadata": {}
        },
        {
            "cell_type": "code",
            "execution_count": 44,
            "source": [
                "with engine.connect() as con:\n",
                "    with open('../db-export/0-0-1-prerelease/schema.sql', mode='r') as f:\n",
                "        cmds = []\n",
                "        for line in f.readlines():\n",
                "            if 'CREATE TABLE' in line:\n",
                "                line = line.strip().replace('BIGINT', 'INT').replace('FLOAT', 'REAL').replace('DOUBLE', 'REAL')\n",
                "                print(line)\n",
                "                con.execute(line.split('(')[0].replace('CREATE TABLE', 'DROP TABLE IF EXISTS'))\n",
                "                result = con.execute(line)"
            ],
            "outputs": [
                {
                    "output_type": "stream",
                    "name": "stdout",
                    "text": [
                        "CREATE TABLE work_stats(work_id INT, label_count INT, gov_count INT, serial_count INT, gov_prop REAL, serial_prop REAL, include BOOLEAN, best_centroid VARCHAR, best_centroid_pd VARCHAR, best_median VARCHAR, best_median_pd VARCHAR);\n"
                    ]
                }
            ],
            "metadata": {}
        },
        {
            "cell_type": "code",
            "execution_count": 54,
            "source": [
                "duckcon.execute(f\"SELECT * FROM '{csv_tmp_path}' LIMIT 1\").fetch_df()"
            ],
            "outputs": [
                {
                    "output_type": "execute_result",
                    "data": {
                        "text/plain": [
                            "   man_id  label_count  gov_count  serial_count  gov_prop  serial_prop  \\\n",
                            "0   80406            1          0             1       0.0          1.0   \n",
                            "\n",
                            "   include best_centroid best_centroid_pd best_median best_median_pd  \n",
                            "0    False           NaN              NaN         NaN            NaN  "
                        ],
                        "text/html": [
                            "<div>\n",
                            "<style scoped>\n",
                            "    .dataframe tbody tr th:only-of-type {\n",
                            "        vertical-align: middle;\n",
                            "    }\n",
                            "\n",
                            "    .dataframe tbody tr th {\n",
                            "        vertical-align: top;\n",
                            "    }\n",
                            "\n",
                            "    .dataframe thead th {\n",
                            "        text-align: right;\n",
                            "    }\n",
                            "</style>\n",
                            "<table border=\"1\" class=\"dataframe\">\n",
                            "  <thead>\n",
                            "    <tr style=\"text-align: right;\">\n",
                            "      <th></th>\n",
                            "      <th>man_id</th>\n",
                            "      <th>label_count</th>\n",
                            "      <th>gov_count</th>\n",
                            "      <th>serial_count</th>\n",
                            "      <th>gov_prop</th>\n",
                            "      <th>serial_prop</th>\n",
                            "      <th>include</th>\n",
                            "      <th>best_centroid</th>\n",
                            "      <th>best_centroid_pd</th>\n",
                            "      <th>best_median</th>\n",
                            "      <th>best_median_pd</th>\n",
                            "    </tr>\n",
                            "  </thead>\n",
                            "  <tbody>\n",
                            "    <tr>\n",
                            "      <th>0</th>\n",
                            "      <td>80406</td>\n",
                            "      <td>1</td>\n",
                            "      <td>0</td>\n",
                            "      <td>1</td>\n",
                            "      <td>0.0</td>\n",
                            "      <td>1.0</td>\n",
                            "      <td>False</td>\n",
                            "      <td>NaN</td>\n",
                            "      <td>NaN</td>\n",
                            "      <td>NaN</td>\n",
                            "      <td>NaN</td>\n",
                            "    </tr>\n",
                            "  </tbody>\n",
                            "</table>\n",
                            "</div>"
                        ]
                    },
                    "metadata": {},
                    "execution_count": 54
                }
            ],
            "metadata": {}
        },
        {
            "cell_type": "markdown",
            "source": [
                "Paths in load.sql should correctly point to the DB export and be absolute."
            ],
            "metadata": {}
        },
        {
            "cell_type": "code",
            "execution_count": 57,
            "source": [
                "import os\n",
                "import time\n",
                "with engine.connect() as con:\n",
                "    with open('../db-export/0-0-1-prerelease/load.sql', mode='r') as f:\n",
                "        copy_cmds = []\n",
                "        print(\"THIS COPY CMD doesn't run from Python's SQL connector, copy and run it in the command line.\")\n",
                "        print(\"=\"*40)\n",
                "        for copy_cmd in f.readlines():\n",
                "            if 'COPY' not in copy_cmd:\n",
                "                continue\n",
                "            a, b = copy_cmd.split(' FROM \\'')\n",
                "            _, table_name = a.split()\n",
                "            parquet_location = b.split(\"' (FORMAT\")[0].strip(\"'\")\n",
                "            csv_tmp_path = parquet_location.replace('parquet', 'csv')\n",
                "            #pd.read_parquet(parquet_location).to_csv(csv_tmp_path, index=False, header=True)\n",
                "            # use duckdb instead\n",
                "            duckcon.execute(f\"COPY '{parquet_location}' TO '{csv_tmp_path}' ( DELIMITER ',' HEADER );\")\n",
                "            pq_cmd = f\"COPY {table_name} FROM '{csv_tmp_path}' DELIMITER ',' CSV HEADER;\"\n",
                "            print(pq_cmd)\n",
                "            #con.execute(pq_cmd)\n",
                "            #os.remove(csv_tmp_path)"
            ],
            "outputs": [
                {
                    "output_type": "stream",
                    "name": "stdout",
                    "text": [
                        "THIS COPY CMD doesn't run from Python's SQL connector, copy and run it in the command line.\n",
                        "========================================\n",
                        "COPY clusters FROM '/Users/organisciak/Documents/projects/saddl-website/db-export/0-0-1-prerelease/7_clusters.csv' DELIMITER ',' CSV HEADER;\n",
                        "COPY clean_predictions FROM '/Users/organisciak/Documents/projects/saddl-website/db-export/0-0-1-prerelease/1_clean_predictions.csv' DELIMITER ',' CSV HEADER;\n",
                        "COPY work_predictions FROM '/Users/organisciak/Documents/projects/saddl-website/db-export/0-0-1-prerelease/2_work_predictions.csv' DELIMITER ',' CSV HEADER;\n",
                        "COPY meta FROM '/Users/organisciak/Documents/projects/saddl-website/db-export/0-0-1-prerelease/0_meta.csv' DELIMITER ',' CSV HEADER;\n",
                        "COPY manifestation_predictions FROM '/Users/organisciak/Documents/projects/saddl-website/db-export/0-0-1-prerelease/6_manifestation_predictions.csv' DELIMITER ',' CSV HEADER;\n",
                        "COPY manifestation_stats FROM '/Users/organisciak/Documents/projects/saddl-website/db-export/0-0-1-prerelease/3_manifestation_stats.csv' DELIMITER ',' CSV HEADER;\n",
                        "COPY work_stats FROM '/Users/organisciak/Documents/projects/saddl-website/db-export/0-0-1-prerelease/4_work_stats.csv' DELIMITER ',' CSV HEADER;\n"
                    ]
                }
            ],
            "metadata": {}
        },
        {
            "cell_type": "markdown",
            "source": [
                "if you have users with privileges granted to the tables that you just dropped and recreated, you need to run this\n",
                "```sql\n",
                "GRANT ALL PRIVILEGES ON ALL TABLES IN SCHEMA public TO saddl;\n",
                "GRANT ALL PRIVILEGES ON ALL SEQUENCES IN SCHEMA public TO saddl;\n",
                "```"
            ],
            "metadata": {}
        },
        {
            "cell_type": "markdown",
            "source": [
                "## ADD PRIMARY KEY\n",
                "\n",
                "`ALTER TABLE` locks the table, so make sure there's nothing else blocking your query.\n",
                "\n",
                "https://stackoverflow.com/questions/26489244/how-to-detect-query-which-holds-the-lock-in-postgres\n",
                "\n",
                "https://stackoverflow.com/questions/35319597/how-to-stop-kill-a-query-in-postgresql"
            ],
            "metadata": {}
        },
        {
            "cell_type": "code",
            "execution_count": 47,
            "source": [
                "with engine.connect() as con:\n",
                "    con.execute('ALTER TABLE work_stats ADD PRIMARY KEY (work_id);')\n",
                "    con.execute('ALTER TABLE manifestation_stats ADD PRIMARY KEY (man_id);')\n",
                "    con.execute('ALTER TABLE meta ADD PRIMARY KEY (htid);')\n",
                "    con.execute('ALTER TABLE clusters ADD PRIMARY KEY (htid);')"
            ],
            "outputs": [],
            "metadata": {}
        },
        {
            "cell_type": "markdown",
            "source": [
                "## CREATE INDEX\n",
                "\n",
                "This makes a huge difference."
            ],
            "metadata": {}
        },
        {
            "cell_type": "code",
            "execution_count": 55,
            "source": [
                "with engine.connect() as con:\n",
                "    con.execute('CREATE INDEX target_idx ON clean_predictions (target);')\n",
                "    con.execute('CREATE INDEX candidate_idx ON clean_predictions (candidate);')\n",
                "\n",
                "    con.execute('CREATE INDEX target_work_idx ON work_predictions (target);')\n",
                "    con.execute('CREATE INDEX candidate_work_idx ON work_predictions (candidate);')\n",
                "\n",
                "    con.execute('CREATE INDEX target_man_idx ON manifestation_predictions (target);')\n",
                "    con.execute('CREATE INDEX candidate_man_idx ON manifestation_predictions (candidate);')\n",
                "\n",
                "    con.execute('CREATE INDEX work_cluster_idx ON clusters (work_id);')\n",
                "    con.execute('CREATE INDEX man_cluster_idx ON clusters (man_id);')"
            ],
            "outputs": [],
            "metadata": {}
        },
        {
            "cell_type": "markdown",
            "source": [
                "## Create Search vector column and index\n",
                "\n",
                "Currently, this is just title and author concatenated. Can be improved with weighting or field-specific search, or text highlighting.\n",
                "https://www.postgresql.org/docs/9.5/textsearch-tables.html.\n",
                "\n",
                "Some notes:\n",
                "- `coalesce(title, '')` ensures that fields are still concatenated when NULL."
            ],
            "metadata": {}
        },
        {
            "cell_type": "code",
            "execution_count": null,
            "source": [
                "with engine.connect() as con:\n",
                "    con.execute('ALTER TABLE meta ADD COLUMN textsearch tsvector;')\n",
                "    con.execute('''UPDATE meta SET textsearch =\n",
                "     to_tsvector('english', coalesce(title,'') || ' ' || coalesce(author,''));\n",
                "    ''')\n",
                "    con.execute('CREATE INDEX meta_search_idx ON meta USING GIN (textsearch);')"
            ],
            "outputs": [],
            "metadata": {}
        },
        {
            "cell_type": "markdown",
            "source": [
                "## Test"
            ],
            "metadata": {}
        },
        {
            "cell_type": "code",
            "execution_count": 48,
            "source": [
                "with engine.connect() as con:\n",
                "    result = con.execute('SELECT * FROM work_stats LIMIT 1')\n",
                "result.all()"
            ],
            "outputs": [
                {
                    "output_type": "execute_result",
                    "data": {
                        "text/plain": [
                            "[]"
                        ]
                    },
                    "metadata": {},
                    "execution_count": 48
                }
            ],
            "metadata": {}
        },
        {
            "cell_type": "code",
            "execution_count": 49,
            "source": [
                "pd.read_sql('SELECT * FROM work_stats LIMIT 1', engine)"
            ],
            "outputs": [
                {
                    "output_type": "execute_result",
                    "data": {
                        "text/plain": [
                            "   work_id  label_count  gov_count  serial_count  gov_prop  serial_prop\n",
                            "0    55553            5          0             5       0.0          1.0"
                        ],
                        "text/html": [
                            "<div>\n",
                            "<style scoped>\n",
                            "    .dataframe tbody tr th:only-of-type {\n",
                            "        vertical-align: middle;\n",
                            "    }\n",
                            "\n",
                            "    .dataframe tbody tr th {\n",
                            "        vertical-align: top;\n",
                            "    }\n",
                            "\n",
                            "    .dataframe thead th {\n",
                            "        text-align: right;\n",
                            "    }\n",
                            "</style>\n",
                            "<table border=\"1\" class=\"dataframe\">\n",
                            "  <thead>\n",
                            "    <tr style=\"text-align: right;\">\n",
                            "      <th></th>\n",
                            "      <th>work_id</th>\n",
                            "      <th>label_count</th>\n",
                            "      <th>gov_count</th>\n",
                            "      <th>serial_count</th>\n",
                            "      <th>gov_prop</th>\n",
                            "      <th>serial_prop</th>\n",
                            "    </tr>\n",
                            "  </thead>\n",
                            "  <tbody>\n",
                            "    <tr>\n",
                            "      <th>0</th>\n",
                            "      <td>55553</td>\n",
                            "      <td>5</td>\n",
                            "      <td>0</td>\n",
                            "      <td>5</td>\n",
                            "      <td>0.0</td>\n",
                            "      <td>1.0</td>\n",
                            "    </tr>\n",
                            "  </tbody>\n",
                            "</table>\n",
                            "</div>"
                        ]
                    },
                    "metadata": {},
                    "execution_count": 49
                }
            ],
            "metadata": {}
        }
    ],
    "metadata": {
        "orig_nbformat": 4,
        "language_info": {
            "name": "python",
            "version": "3.8.8",
            "mimetype": "text/x-python",
            "codemirror_mode": {
                "name": "ipython",
                "version": 3
            },
            "pygments_lexer": "ipython3",
            "nbconvert_exporter": "python",
            "file_extension": ".py"
        },
        "kernelspec": {
            "name": "python3",
            "display_name": "Python 3.8.8 64-bit ('base': conda)"
        },
        "interpreter": {
            "hash": "379ed9c0df61780843c458600fb18608a0fc28d3616d16e8a179314cb2128fd7"
        }
    },
    "nbformat": 4,
    "nbformat_minor": 2
}