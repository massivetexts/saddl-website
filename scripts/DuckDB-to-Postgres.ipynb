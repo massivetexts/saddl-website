{
    "cells": [
        {
            "cell_type": "code",
            "execution_count": null,
            "source": [
                "!pip install psycopg2 # library for postrgres connector\n",
                "from sqlalchemy import create_engine\n",
                "import pandas as pd"
            ],
            "outputs": [],
            "metadata": {}
        },
        {
            "cell_type": "code",
            "execution_count": 29,
            "source": [
                "# connect to engine. This assumes a DB of saddl, and root user without a pw\n",
                "engine = create_engine('postgresql://:@localhost:5432/saddl')"
            ],
            "outputs": [],
            "metadata": {}
        },
        {
            "cell_type": "code",
            "execution_count": 38,
            "source": [
                "with engine.connect() as con:\n",
                "    with open('../db-export/0-0-1-prerelease/schema.sql', mode='r') as f:\n",
                "        cmds = []\n",
                "        for line in f.readlines():\n",
                "            if 'CREATE TABLE' in line:\n",
                "                line = line.strip().replace('BIGINT', 'INT').replace('FLOAT', 'REAL').replace('DOUBLE', 'REAL')\n",
                "                print(line)\n",
                "                result = con.execute(line)\n",
                "                print(result.all())"
            ],
            "outputs": [
                {
                    "output_type": "execute_result",
                    "data": {
                        "text/plain": [
                            "['CREATE TABLE work_predictions(target INT, candidate INT, swsm REAL, swde REAL, wp_dv REAL, partof REAL, contains REAL, \"overlaps\" REAL, author REAL, simdiff REAL, grsim REAL, randdiff REAL, count INTEGER);',\n",
                            " 'CREATE TABLE clean_predictions(target VARCHAR, candidate VARCHAR, swsm REAL, swde REAL, wp_dv REAL, partof REAL, contains REAL, \"overlaps\" REAL, author REAL, simdiff REAL, grsim REAL, randdiff REAL, relatedness REAL, count INTEGER);',\n",
                            " 'CREATE TABLE meta(htid VARCHAR, \"access\" VARCHAR, rights VARCHAR, ht_bib_key VARCHAR, description VARCHAR, source VARCHAR, source_bib_num VARCHAR, oclc_num VARCHAR, isbn VARCHAR, issn VARCHAR, lccn VARCHAR, title VARCHAR, imprint VARCHAR, rights_reason_code VARCHAR, rights_timestamp VARCHAR, us_gov_doc_flag INT, rights_date_used REAL, pub_place VARCHAR, lang VARCHAR, bib_fmt VARCHAR, collection_code VARCHAR, content_provider_code VARCHAR, responsible_entity_code VARCHAR, digitization_agent_code VARCHAR, access_profile_code VARCHAR, author VARCHAR, page_count VARCHAR);',\n",
                            " 'CREATE TABLE manifestation_predictions(target INT, candidate INT, swsm REAL, swde REAL, wp_dv REAL, partof REAL, contains REAL, \"overlaps\" REAL, author REAL, simdiff REAL, grsim REAL, randdiff REAL, count INTEGER);',\n",
                            " 'CREATE TABLE clusters(htid VARCHAR, work_id INT, man_id INT);',\n",
                            " 'CREATE TABLE work_stats(work_id INT, label_count INT, gov_count INT, serial_count INT, gov_prop REAL, serial_prop REAL);']"
                        ]
                    },
                    "metadata": {},
                    "execution_count": 38
                }
            ],
            "metadata": {}
        },
        {
            "cell_type": "code",
            "execution_count": 27,
            "source": [
                "import os\n",
                "with engine.connect() as con:\n",
                "    with open('../db-export/0-0-1-prerelease/load.sql', mode='r') as f:\n",
                "        copy_cmds = []\n",
                "        for copy_cmd in f.readlines():\n",
                "            if 'COPY' not in line:\n",
                "                continue\n",
                "            a, b = copy_cmd.split(' FROM \\'')\n",
                "            _, table_name = a.split()\n",
                "            parquet_location = b.split(\"' (FORMAT\")[0].strip(\"'\")\n",
                "            csv_tmp_path = parquet_location.replace('parquet', 'csv.tmp')\n",
                "            pd.read_parquet(parquet_location).to_csv(csv_tmp_path, index=False, header=True)\n",
                "            pq_cmd = f\"COPY {table_name} FROM '{csv_tmp_path}' DELIMITER ',' CSV HEADER;\"\n",
                "            print(pq_cmd)\n",
                "            con.execute(pq_cmd)\n",
                "            os.remove(csv_tmp_path)"
            ],
            "outputs": [
                {
                    "output_type": "stream",
                    "name": "stdout",
                    "text": [
                        "COPY work_stats FROM '/Users/organisciak/Documents/projects/saddl-website/db-export/0-0-1-prerelease/6_work_stats.csv.tmp' DELIMITER ',' CSV HEADER;\n",
                        "COPY work_predictions FROM '/Users/organisciak/Documents/projects/saddl-website/db-export/0-0-1-prerelease/0_work_predictions.csv.tmp' DELIMITER ',' CSV HEADER;\n",
                        "COPY manifestation_predictions FROM '/Users/organisciak/Documents/projects/saddl-website/db-export/0-0-1-prerelease/4_manifestation_predictions.csv.tmp' DELIMITER ',' CSV HEADER;\n",
                        "COPY meta FROM '/Users/organisciak/Documents/projects/saddl-website/db-export/0-0-1-prerelease/2_meta.csv.tmp' DELIMITER ',' CSV HEADER;\n",
                        "COPY clean_predictions FROM '/Users/organisciak/Documents/projects/saddl-website/db-export/0-0-1-prerelease/1_clean_predictions.csv.tmp' DELIMITER ',' CSV HEADER;\n",
                        "COPY clusters FROM '/Users/organisciak/Documents/projects/saddl-website/db-export/0-0-1-prerelease/5_clusters.csv.tmp' DELIMITER ',' CSV HEADER;\n"
                    ]
                }
            ],
            "metadata": {}
        },
        {
            "cell_type": "markdown",
            "source": [
                "## ADD PRIMARY KEY\n",
                "\n",
                "`ALTER TABLE` locks the table, so make sure there's nothing else blocking your query.\n",
                "\n",
                "https://stackoverflow.com/questions/26489244/how-to-detect-query-which-holds-the-lock-in-postgres\n",
                "\n",
                "https://stackoverflow.com/questions/35319597/how-to-stop-kill-a-query-in-postgresql"
            ],
            "metadata": {}
        },
        {
            "cell_type": "code",
            "execution_count": null,
            "source": [
                "with engine.connect() as con:\n",
                "    con.execute('ALTER TABLE work_stats ADD PRIMARY KEY (work_id);')\n",
                "    con.execute('ALTER TABLE meta ADD PRIMARY KEY (htid);')\n",
                "    con.execute('ALTER TABLE clusters ADD PRIMARY KEY (htid);')"
            ],
            "outputs": [],
            "metadata": {}
        },
        {
            "cell_type": "markdown",
            "source": [
                "## CREATE INDEX\n",
                "\n",
                "This makes a huge difference."
            ],
            "metadata": {}
        },
        {
            "cell_type": "code",
            "execution_count": 55,
            "source": [
                "with engine.connect() as con:\n",
                "    con.execute('CREATE INDEX target_idx ON clean_predictions (target);')\n",
                "    con.execute('CREATE INDEX candidate_idx ON clean_predictions (candidate);')\n",
                "\n",
                "    con.execute('CREATE INDEX target_work_idx ON work_predictions (target);')\n",
                "    con.execute('CREATE INDEX candidate_work_idx ON work_predictions (candidate);')\n",
                "\n",
                "    con.execute('CREATE INDEX target_man_idx ON manifestation_predictions (target);')\n",
                "    con.execute('CREATE INDEX candidate_man_idx ON manifestation_predictions (candidate);')\n",
                "\n",
                "    con.execute('CREATE INDEX work_cluster_idx ON clusters (work_id);')\n",
                "    con.execute('CREATE INDEX man_cluster_idx ON clusters (man_id);')"
            ],
            "outputs": [],
            "metadata": {}
        },
        {
            "cell_type": "markdown",
            "source": [
                "## Test"
            ],
            "metadata": {}
        },
        {
            "cell_type": "code",
            "execution_count": 48,
            "source": [
                "with engine.connect() as con:\n",
                "    result = con.execute('SELECT * FROM work_stats LIMIT 1')\n",
                "result.all()"
            ],
            "outputs": [
                {
                    "output_type": "execute_result",
                    "data": {
                        "text/plain": [
                            "[(55553, 5, 0, 5, 0.0, 1.0)]"
                        ]
                    },
                    "metadata": {},
                    "execution_count": 48
                }
            ],
            "metadata": {}
        },
        {
            "cell_type": "code",
            "execution_count": 49,
            "source": [
                "pd.read_sql('SELECT * FROM work_stats LIMIT 1', engine)"
            ],
            "outputs": [
                {
                    "output_type": "execute_result",
                    "data": {
                        "text/plain": [
                            "   work_id  label_count  gov_count  serial_count  gov_prop  serial_prop\n",
                            "0    55553            5          0             5       0.0          1.0"
                        ],
                        "text/html": [
                            "<div>\n",
                            "<style scoped>\n",
                            "    .dataframe tbody tr th:only-of-type {\n",
                            "        vertical-align: middle;\n",
                            "    }\n",
                            "\n",
                            "    .dataframe tbody tr th {\n",
                            "        vertical-align: top;\n",
                            "    }\n",
                            "\n",
                            "    .dataframe thead th {\n",
                            "        text-align: right;\n",
                            "    }\n",
                            "</style>\n",
                            "<table border=\"1\" class=\"dataframe\">\n",
                            "  <thead>\n",
                            "    <tr style=\"text-align: right;\">\n",
                            "      <th></th>\n",
                            "      <th>work_id</th>\n",
                            "      <th>label_count</th>\n",
                            "      <th>gov_count</th>\n",
                            "      <th>serial_count</th>\n",
                            "      <th>gov_prop</th>\n",
                            "      <th>serial_prop</th>\n",
                            "    </tr>\n",
                            "  </thead>\n",
                            "  <tbody>\n",
                            "    <tr>\n",
                            "      <th>0</th>\n",
                            "      <td>55553</td>\n",
                            "      <td>5</td>\n",
                            "      <td>0</td>\n",
                            "      <td>5</td>\n",
                            "      <td>0.0</td>\n",
                            "      <td>1.0</td>\n",
                            "    </tr>\n",
                            "  </tbody>\n",
                            "</table>\n",
                            "</div>"
                        ]
                    },
                    "metadata": {},
                    "execution_count": 49
                }
            ],
            "metadata": {}
        }
    ],
    "metadata": {
        "orig_nbformat": 4,
        "language_info": {
            "name": "python",
            "version": "3.8.8",
            "mimetype": "text/x-python",
            "codemirror_mode": {
                "name": "ipython",
                "version": 3
            },
            "pygments_lexer": "ipython3",
            "nbconvert_exporter": "python",
            "file_extension": ".py"
        },
        "kernelspec": {
            "name": "python3",
            "display_name": "Python 3.8.8 64-bit ('base': conda)"
        },
        "interpreter": {
            "hash": "379ed9c0df61780843c458600fb18608a0fc28d3616d16e8a179314cb2128fd7"
        }
    },
    "nbformat": 4,
    "nbformat_minor": 2
}